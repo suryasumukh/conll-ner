{
 "cells": [
  {
   "cell_type": "code",
   "execution_count": 1,
   "metadata": {
    "collapsed": true
   },
   "outputs": [],
   "source": [
    "import os\n",
    "import numpy as np\n",
    "import json"
   ]
  },
  {
   "cell_type": "code",
   "execution_count": 2,
   "metadata": {
    "collapsed": true
   },
   "outputs": [],
   "source": [
    "DATA_DIR = os.path.join('../data')\n",
    "CONLL_DATA_FILE = os.path.join(DATA_DIR, 'eng.conll')"
   ]
  },
  {
   "cell_type": "code",
   "execution_count": 3,
   "metadata": {
    "collapsed": true
   },
   "outputs": [],
   "source": [
    "data = (sc.textFile(CONLL_DATA_FILE)\n",
    "        .map(lambda line: line.split(' ')[0])\n",
    "       )"
   ]
  },
  {
   "cell_type": "code",
   "execution_count": 5,
   "metadata": {
    "collapsed": false
   },
   "outputs": [
    {
     "name": "stdout",
     "output_type": "stream",
     "text": [
      "Max Word Length: [61, 60, 52, 50, 37, 34, 32, 27, 27, 27]\n"
     ]
    }
   ],
   "source": [
    "max_word_len = (data.map(lambda word: len(word))\n",
    "                .takeOrdered(10, lambda i: -i)\n",
    "               )\n",
    "print 'Max Word Length: {}'.format(max_word_len)"
   ]
  },
  {
   "cell_type": "code",
   "execution_count": 6,
   "metadata": {
    "collapsed": false
   },
   "outputs": [
    {
     "data": {
      "text/plain": [
       "[u'-------------------------------------------------------------']"
      ]
     },
     "execution_count": 6,
     "metadata": {},
     "output_type": "execute_result"
    }
   ],
   "source": [
    "data.filter(lambda word: len(word) == 61).collect()"
   ]
  },
  {
   "cell_type": "code",
   "execution_count": 8,
   "metadata": {
    "collapsed": false
   },
   "outputs": [
    {
     "name": "stdout",
     "output_type": "stream",
     "text": [
      "Unique #Chars: 85\n",
      "[u'!', u'#', u'\"', u'%', u'$', u\"'\", u'&', u')', u'(', u'+', u'*', u'-', u',', u'/', u'.', u'1', u'0', u'3', u'2', u'5', u'4', u'7', u'6', u'9', u'8', u';', u':', u'=', u'?', u'A', u'@', u'C', u'B', u'E', u'D', u'G', u'F', u'I', u'H', u'K', u'J', u'M', u'L', u'O', u'N', u'Q', u'P', u'S', u'R', u'U', u'T', u'W', u'V', u'Y', u'X', u'[', u'Z', u']', u'a', u'`', u'c', u'b', u'e', u'd', u'g', u'f', u'i', u'h', u'k', u'j', u'm', u'l', u'o', u'n', u'q', u'p', u's', u'r', u'u', u't', u'w', u'v', u'y', u'x', u'z']\n"
     ]
    }
   ],
   "source": [
    "chars = (data.flatMap(lambda word: [(c, 1) for c in word])\n",
    "         .reduceByKey(lambda x,y: x+y)\n",
    "        ).collectAsMap()\n",
    "print 'Unique #Chars: {}'.format(len(chars))\n",
    "print chars.keys()"
   ]
  },
  {
   "cell_type": "code",
   "execution_count": 9,
   "metadata": {
    "collapsed": false
   },
   "outputs": [
    {
     "data": {
      "text/plain": [
       "False"
      ]
     },
     "execution_count": 9,
     "metadata": {},
     "output_type": "execute_result"
    }
   ],
   "source": [
    "'~' in chars.keys()"
   ]
  },
  {
   "cell_type": "markdown",
   "metadata": {},
   "source": [
    "use '~' as padding char. Length - 61"
   ]
  },
  {
   "cell_type": "code",
   "execution_count": 10,
   "metadata": {
    "collapsed": true
   },
   "outputs": [],
   "source": [
    "with open(os.path.join(DATA_DIR, 'char_map.json'), 'w') as fh:\n",
    "    fh.write(json.dumps(chars))"
   ]
  },
  {
   "cell_type": "code",
   "execution_count": null,
   "metadata": {
    "collapsed": true
   },
   "outputs": [],
   "source": []
  }
 ],
 "metadata": {
  "kernelspec": {
   "display_name": "Python 2",
   "language": "python",
   "name": "python2"
  },
  "language_info": {
   "codemirror_mode": {
    "name": "ipython",
    "version": 2
   },
   "file_extension": ".py",
   "mimetype": "text/x-python",
   "name": "python",
   "nbconvert_exporter": "python",
   "pygments_lexer": "ipython2",
   "version": "2.7.12"
  }
 },
 "nbformat": 4,
 "nbformat_minor": 0
}
